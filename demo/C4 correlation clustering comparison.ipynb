{
 "cells": [
  {
   "cell_type": "code",
   "execution_count": 1,
   "metadata": {
    "collapsed": true
   },
   "outputs": [],
   "source": [
    "import sys\n",
    "import os\n",
    "pathogist_dir = os.path.dirname(os.path.dirname(os.getcwd()))\n",
    "sys.path.append(os.path.join(pathogist_dir, 'PathOGiST'))"
   ]
  },
  {
   "cell_type": "code",
   "execution_count": 2,
   "metadata": {
    "collapsed": true
   },
   "outputs": [],
   "source": [
    "import time\n",
    "import itertools\n",
    "import statistics"
   ]
  },
  {
   "cell_type": "code",
   "execution_count": 3,
   "metadata": {
    "collapsed": true
   },
   "outputs": [],
   "source": [
    "import pathogist\n",
    "import pathogist.io\n",
    "import pathogist.cluster\n",
    "import pathogist.distance"
   ]
  },
  {
   "cell_type": "markdown",
   "metadata": {
    "collapsed": true
   },
   "source": [
    "## Reading distance files"
   ]
  },
  {
   "cell_type": "code",
   "execution_count": 4,
   "metadata": {
    "collapsed": true
   },
   "outputs": [],
   "source": [
    "ecoli_mlst_dist = pathogist.io.open_distance_file('/home/mkatebi/PathOGiSTPrivate/distance_files/ecoli_mlst_dist.tsv')"
   ]
  },
  {
   "cell_type": "code",
   "execution_count": 5,
   "metadata": {
    "collapsed": true
   },
   "outputs": [],
   "source": [
    "tb_mlst_dist = pathogist.io.open_distance_file('/home/mkatebi/PathOGiSTPrivate/distance_files/tb_mlst_dist.tsv')\n",
    "tb_sample_subset = tb_mlst_dist.index.values[0:100]"
   ]
  },
  {
   "cell_type": "code",
   "execution_count": 6,
   "metadata": {
    "collapsed": true
   },
   "outputs": [],
   "source": [
    "yersinia_mlst_dist = pathogist.io.open_distance_file('/home/mkatebi/PathOGiSTPrivate/distance_files/yersinia_mlst_dist.tsv')"
   ]
  },
  {
   "cell_type": "code",
   "execution_count": 7,
   "metadata": {
    "collapsed": true
   },
   "outputs": [],
   "source": [
    "yersinia_snv_dist = pathogist.io.open_distance_file('package/yersinia_snv_dist.tsv')"
   ]
  },
  {
   "cell_type": "markdown",
   "metadata": {
    "collapsed": true
   },
   "source": [
    "### E. Coli MLST"
   ]
  },
  {
   "cell_type": "markdown",
   "metadata": {
    "collapsed": true
   },
   "source": [
    "#### Time with c4 parallel correlation clustering algorithm"
   ]
  },
  {
   "cell_type": "code",
   "execution_count": 17,
   "metadata": {},
   "outputs": [
    {
     "name": "stdout",
     "output_type": "stream",
     "text": [
      "0.019458532333374023\n"
     ]
    }
   ],
   "source": [
    "s_t = time.time()\n",
    "ecoli_mlst_clustering_c4 = pathogist.cluster.c4_correlation(ecoli_mlst_dist, threshold=1500)\n",
    "e_t = time.time()\n",
    "print(e_t - s_t)"
   ]
  },
  {
   "cell_type": "markdown",
   "metadata": {
    "collapsed": true
   },
   "source": [
    "#### Time with current correlation clustering algorithm"
   ]
  },
  {
   "cell_type": "code",
   "execution_count": 18,
   "metadata": {},
   "outputs": [
    {
     "name": "stdout",
     "output_type": "stream",
     "text": [
      "11.148344993591309\n"
     ]
    }
   ],
   "source": [
    "s_t = time.time()\n",
    "ecoli_mlst_clustering = pathogist.cluster.correlation(ecoli_mlst_dist, threshold=1500)\n",
    "e_t = time.time()\n",
    "print(e_t - s_t)"
   ]
  },
  {
   "cell_type": "markdown",
   "metadata": {
    "collapsed": true
   },
   "source": [
    "#### Adjusted rand index between output of c4 and current correlation clustering"
   ]
  },
  {
   "cell_type": "code",
   "execution_count": 19,
   "metadata": {},
   "outputs": [
    {
     "data": {
      "text/plain": [
       "0.9929475426271949"
      ]
     },
     "execution_count": 19,
     "metadata": {},
     "output_type": "execute_result"
    }
   ],
   "source": [
    "pathogist.cluster.adjusted_rand_index(ecoli_mlst_clustering_c4, ecoli_mlst_clustering)"
   ]
  },
  {
   "cell_type": "markdown",
   "metadata": {
    "collapsed": true
   },
   "source": [
    "### Yersinia MLST"
   ]
  },
  {
   "cell_type": "markdown",
   "metadata": {
    "collapsed": true
   },
   "source": [
    "#### Time with c4 parallel correlation clustering algorithm"
   ]
  },
  {
   "cell_type": "code",
   "execution_count": 34,
   "metadata": {},
   "outputs": [
    {
     "name": "stdout",
     "output_type": "stream",
     "text": [
      "0.035915374755859375\n"
     ]
    }
   ],
   "source": [
    "s_t = time.time()\n",
    "yersinia_mlst_clustering_c4 = pathogist.cluster.c4_correlation(yersinia_mlst_dist, threshold=400)\n",
    "e_t = time.time()\n",
    "print(e_t - s_t)"
   ]
  },
  {
   "cell_type": "markdown",
   "metadata": {
    "collapsed": true
   },
   "source": [
    "#### Time with current correlation clustering algorithm"
   ]
  },
  {
   "cell_type": "code",
   "execution_count": 35,
   "metadata": {},
   "outputs": [
    {
     "name": "stdout",
     "output_type": "stream",
     "text": [
      "113.84787106513977\n"
     ]
    }
   ],
   "source": [
    "s_t = time.time()\n",
    "yersinia_mlst_clustering = pathogist.cluster.correlation(yersinia_mlst_dist, threshold=400)\n",
    "e_t = time.time()\n",
    "print(e_t - s_t)"
   ]
  },
  {
   "cell_type": "markdown",
   "metadata": {
    "collapsed": true
   },
   "source": [
    "#### Adjusted rand index between output of c4 and current correlation clustering"
   ]
  },
  {
   "cell_type": "code",
   "execution_count": 36,
   "metadata": {},
   "outputs": [
    {
     "data": {
      "text/plain": [
       "1.0"
      ]
     },
     "execution_count": 36,
     "metadata": {},
     "output_type": "execute_result"
    }
   ],
   "source": [
    "pathogist.cluster.adjusted_rand_index(yersinia_mlst_clustering_c4, yersinia_mlst_clustering)"
   ]
  },
  {
   "cell_type": "markdown",
   "metadata": {
    "collapsed": true
   },
   "source": [
    "### Yersinia SNP"
   ]
  },
  {
   "cell_type": "markdown",
   "metadata": {
    "collapsed": true
   },
   "source": [
    "#### Time with c4 parallel correlation clustering algorithm"
   ]
  },
  {
   "cell_type": "code",
   "execution_count": 12,
   "metadata": {},
   "outputs": [
    {
     "name": "stdout",
     "output_type": "stream",
     "text": [
      "0.037908315658569336\n"
     ]
    }
   ],
   "source": [
    "s_t = time.time()\n",
    "yersinia_snv_clustering_c4 = pathogist.cluster.c4_correlation(yersinia_snv_dist, threshold=2500)\n",
    "e_t = time.time()\n",
    "print(e_t - s_t)"
   ]
  },
  {
   "cell_type": "markdown",
   "metadata": {
    "collapsed": true
   },
   "source": [
    "#### Time with current correlation clustering algorithm"
   ]
  },
  {
   "cell_type": "code",
   "execution_count": 10,
   "metadata": {},
   "outputs": [
    {
     "name": "stdout",
     "output_type": "stream",
     "text": [
      "113.8979766368866\n"
     ]
    }
   ],
   "source": [
    "s_t = time.time()\n",
    "yersinia_snv_clustering = pathogist.cluster.correlation(yersinia_snv_dist, threshold=2500)\n",
    "e_t = time.time()\n",
    "print(e_t - s_t)"
   ]
  },
  {
   "cell_type": "markdown",
   "metadata": {
    "collapsed": true
   },
   "source": [
    "#### Adjusted rand index between output of c4 and current correlation clustering"
   ]
  },
  {
   "cell_type": "code",
   "execution_count": 13,
   "metadata": {},
   "outputs": [
    {
     "data": {
      "text/plain": [
       "1.0"
      ]
     },
     "execution_count": 13,
     "metadata": {},
     "output_type": "execute_result"
    }
   ],
   "source": [
    "pathogist.cluster.adjusted_rand_index(yersinia_snv_clustering_c4, yersinia_snv_clustering)"
   ]
  },
  {
   "cell_type": "markdown",
   "metadata": {
    "collapsed": true
   },
   "source": [
    "### M. Tuberculosis MLST"
   ]
  },
  {
   "cell_type": "markdown",
   "metadata": {
    "collapsed": true
   },
   "source": [
    "#### Time with c4 parallel correlation clustering algorithm"
   ]
  },
  {
   "cell_type": "code",
   "execution_count": 30,
   "metadata": {},
   "outputs": [
    {
     "name": "stdout",
     "output_type": "stream",
     "text": [
      "0.045311689376831055\n"
     ]
    }
   ],
   "source": [
    "s_t = time.time()\n",
    "tb_mlst_clustering_c4 = pathogist.cluster.c4_correlation(tb_mlst_dist.loc[tb_sample_subset, tb_sample_subset], threshold=700)\n",
    "e_t = time.time()\n",
    "print(e_t - s_t)"
   ]
  },
  {
   "cell_type": "markdown",
   "metadata": {
    "collapsed": true
   },
   "source": [
    "#### Time with current correlation clustering algorithm"
   ]
  },
  {
   "cell_type": "code",
   "execution_count": 31,
   "metadata": {},
   "outputs": [
    {
     "name": "stdout",
     "output_type": "stream",
     "text": [
      "29.851481914520264\n"
     ]
    }
   ],
   "source": [
    "s_t = time.time()\n",
    "tb_mlst_clustering = pathogist.cluster.correlation(tb_mlst_dist.loc[tb_sample_subset, tb_sample_subset], threshold=700)\n",
    "e_t = time.time()\n",
    "print(e_t - s_t)"
   ]
  },
  {
   "cell_type": "markdown",
   "metadata": {
    "collapsed": true
   },
   "source": [
    "#### Adjusted rand index between output of c4 and current correlation clustering"
   ]
  },
  {
   "cell_type": "code",
   "execution_count": 32,
   "metadata": {},
   "outputs": [
    {
     "data": {
      "text/plain": [
       "0.9670712474220253"
      ]
     },
     "execution_count": 32,
     "metadata": {},
     "output_type": "execute_result"
    }
   ],
   "source": [
    "pathogist.cluster.adjusted_rand_index(tb_mlst_clustering_c4, tb_mlst_clustering)"
   ]
  },
  {
   "cell_type": "markdown",
   "metadata": {},
   "source": [
    "#### Time of c4 algorithm on the all the samples"
   ]
  },
  {
   "cell_type": "code",
   "execution_count": 21,
   "metadata": {},
   "outputs": [
    {
     "name": "stdout",
     "output_type": "stream",
     "text": [
      "0.1685783863067627\n"
     ]
    }
   ],
   "source": [
    "s_t = time.time()\n",
    "tb_mlst_clustering_c4 = pathogist.cluster.c4_correlation(tb_mlst_dist, threshold=700)\n",
    "e_t = time.time()\n",
    "print(e_t - s_t)"
   ]
  },
  {
   "cell_type": "markdown",
   "metadata": {},
   "source": [
    "## Comparing outputs of different runs of c4"
   ]
  },
  {
   "cell_type": "code",
   "execution_count": 25,
   "metadata": {
    "collapsed": true
   },
   "outputs": [],
   "source": [
    "c4_output_clusterings = []\n",
    "for i in range(50):\n",
    "    c4_output_clusterings += [pathogist.cluster.c4_correlation(tb_mlst_dist, threshold=700)]"
   ]
  },
  {
   "cell_type": "code",
   "execution_count": 26,
   "metadata": {
    "collapsed": true
   },
   "outputs": [],
   "source": [
    "ARIs = []\n",
    "for c1, c2 in itertools.combinations(c4_output_clusterings, 2):\n",
    "    ARIs += [pathogist.cluster.adjusted_rand_index(c1, c2)]"
   ]
  },
  {
   "cell_type": "code",
   "execution_count": 27,
   "metadata": {},
   "outputs": [
    {
     "name": "stdout",
     "output_type": "stream",
     "text": [
      "Max: 1.0\n",
      "Min: 0.7139533113071445\n",
      "Mean: 0.98379136920366\n",
      "Standard deviation: 0.054372729943674696\n"
     ]
    }
   ],
   "source": [
    "print('Max:', max(ARIs))\n",
    "print('Min:', min(ARIs))\n",
    "print('Mean:', statistics.mean(ARIs))\n",
    "print('Standard deviation:', statistics.stdev(ARIs))"
   ]
  },
  {
   "cell_type": "code",
   "execution_count": null,
   "metadata": {
    "collapsed": true
   },
   "outputs": [],
   "source": []
  }
 ],
 "metadata": {
  "kernelspec": {
   "display_name": "Python 3",
   "language": "python",
   "name": "python3"
  },
  "language_info": {
   "codemirror_mode": {
    "name": "ipython",
    "version": 3
   },
   "file_extension": ".py",
   "mimetype": "text/x-python",
   "name": "python",
   "nbconvert_exporter": "python",
   "pygments_lexer": "ipython3",
   "version": "3.6.2"
  }
 },
 "nbformat": 4,
 "nbformat_minor": 2
}
