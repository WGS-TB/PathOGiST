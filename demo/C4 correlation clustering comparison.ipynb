{
 "cells": [
  {
   "cell_type": "code",
   "execution_count": 3,
   "metadata": {
    "collapsed": true
   },
   "outputs": [],
   "source": [
    "import sys\n",
    "import os\n",
    "pathogist_dir = os.path.dirname(os.path.dirname(os.getcwd()))\n",
    "sys.path.append(os.path.join(pathogist_dir, 'PathOGiST'))"
   ]
  },
  {
   "cell_type": "code",
   "execution_count": 20,
   "metadata": {
    "collapsed": true
   },
   "outputs": [],
   "source": [
    "import time\n",
    "import itertools\n",
    "import statistics"
   ]
  },
  {
   "cell_type": "code",
   "execution_count": 5,
   "metadata": {},
   "outputs": [],
   "source": [
    "import pathogist\n",
    "import pathogist.io\n",
    "import pathogist.cluster\n",
    "import pathogist.distance"
   ]
  },
  {
   "cell_type": "markdown",
   "metadata": {
    "collapsed": true
   },
   "source": [
    "## Reading distance files"
   ]
  },
  {
   "cell_type": "code",
   "execution_count": 6,
   "metadata": {
    "collapsed": true
   },
   "outputs": [],
   "source": [
    "ecoli_mlst_dist = pathogist.io.open_distance_file('/home/mkatebi/PathOGiSTPrivate/distance_files/ecoli_mlst_dist.tsv')"
   ]
  },
  {
   "cell_type": "code",
   "execution_count": 7,
   "metadata": {
    "collapsed": true
   },
   "outputs": [],
   "source": [
    "tb_mlst_dist = pathogist.io.open_distance_file('/home/mkatebi/PathOGiSTPrivate/distance_files/tb_mlst_dist.tsv')\n",
    "tb_sample_subset = tb_mlst_dist.index.values[0:100]"
   ]
  },
  {
   "cell_type": "code",
   "execution_count": 8,
   "metadata": {
    "collapsed": true
   },
   "outputs": [],
   "source": [
    "yersinia_mlst_dist = pathogist.io.open_distance_file('/home/mkatebi/PathOGiSTPrivate/distance_files/yersinia_mlst_dist.tsv')"
   ]
  },
  {
   "cell_type": "code",
   "execution_count": 9,
   "metadata": {
    "collapsed": true
   },
   "outputs": [],
   "source": [
    "yersinia_snv_dist = pathogist.io.open_distance_file('package/yersinia_snv_dist.tsv')"
   ]
  },
  {
   "cell_type": "markdown",
   "metadata": {
    "collapsed": true
   },
   "source": [
    "### E. Coli MLST"
   ]
  },
  {
   "cell_type": "markdown",
   "metadata": {
    "collapsed": true
   },
   "source": [
    "#### Time with c4 parallel correlation clustering algorithm"
   ]
  },
  {
   "cell_type": "code",
   "execution_count": 12,
   "metadata": {},
   "outputs": [
    {
     "name": "stdout",
     "output_type": "stream",
     "text": [
      "0.019078969955444336\n"
     ]
    }
   ],
   "source": [
    "s_t = time.time()\n",
    "ecoli_mlst_clustering_c4 = pathogist.cluster.c4_correlation(ecoli_mlst_dist, threshold=1500)\n",
    "e_t = time.time()\n",
    "print(e_t - s_t)"
   ]
  },
  {
   "cell_type": "markdown",
   "metadata": {
    "collapsed": true
   },
   "source": [
    "#### Time with current correlation clustering algorithm"
   ]
  },
  {
   "cell_type": "code",
   "execution_count": 13,
   "metadata": {},
   "outputs": [
    {
     "name": "stdout",
     "output_type": "stream",
     "text": [
      "13.50654673576355\n"
     ]
    }
   ],
   "source": [
    "s_t = time.time()\n",
    "ecoli_mlst_clustering = pathogist.cluster.correlation(ecoli_mlst_dist, threshold=1500)\n",
    "e_t = time.time()\n",
    "print(e_t - s_t)"
   ]
  },
  {
   "cell_type": "markdown",
   "metadata": {
    "collapsed": true
   },
   "source": [
    "#### Adjusted rand index between output of c4 and current correlation clustering"
   ]
  },
  {
   "cell_type": "code",
   "execution_count": 14,
   "metadata": {},
   "outputs": [
    {
     "data": {
      "text/plain": [
       "1.0"
      ]
     },
     "execution_count": 14,
     "metadata": {},
     "output_type": "execute_result"
    }
   ],
   "source": [
    "pathogist.cluster.adjusted_rand_index(ecoli_mlst_clustering_c4, ecoli_mlst_clustering)"
   ]
  },
  {
   "cell_type": "markdown",
   "metadata": {
    "collapsed": true
   },
   "source": [
    "### Yersinia MLST"
   ]
  },
  {
   "cell_type": "markdown",
   "metadata": {
    "collapsed": true
   },
   "source": [
    "#### Time with c4 parallel correlation clustering algorithm"
   ]
  },
  {
   "cell_type": "code",
   "execution_count": 15,
   "metadata": {},
   "outputs": [
    {
     "name": "stdout",
     "output_type": "stream",
     "text": [
      "0.03434181213378906\n"
     ]
    }
   ],
   "source": [
    "s_t = time.time()\n",
    "yersinia_mlst_clustering_c4 = pathogist.cluster.c4_correlation(yersinia_mlst_dist, threshold=400)\n",
    "e_t = time.time()\n",
    "print(e_t - s_t)"
   ]
  },
  {
   "cell_type": "markdown",
   "metadata": {
    "collapsed": true
   },
   "source": [
    "#### Time with current correlation clustering algorithm"
   ]
  },
  {
   "cell_type": "code",
   "execution_count": 16,
   "metadata": {},
   "outputs": [
    {
     "name": "stdout",
     "output_type": "stream",
     "text": [
      "130.7845356464386\n"
     ]
    }
   ],
   "source": [
    "s_t = time.time()\n",
    "yersinia_mlst_clustering = pathogist.cluster.correlation(yersinia_mlst_dist, threshold=400)\n",
    "e_t = time.time()\n",
    "print(e_t - s_t)"
   ]
  },
  {
   "cell_type": "markdown",
   "metadata": {
    "collapsed": true
   },
   "source": [
    "#### Adjusted rand index between output of c4 and current correlation clustering"
   ]
  },
  {
   "cell_type": "code",
   "execution_count": null,
   "metadata": {
    "collapsed": true
   },
   "outputs": [],
   "source": [
    "pathogist.cluster.adjusted_rand_index(yersinia_mlst_clustering_c4, yersinia_mlst_clustering)"
   ]
  },
  {
   "cell_type": "markdown",
   "metadata": {
    "collapsed": true
   },
   "source": [
    "### Yersinia SNP"
   ]
  },
  {
   "cell_type": "markdown",
   "metadata": {
    "collapsed": true
   },
   "source": [
    "#### Time with c4 parallel correlation clustering algorithm"
   ]
  },
  {
   "cell_type": "code",
   "execution_count": 12,
   "metadata": {},
   "outputs": [
    {
     "name": "stdout",
     "output_type": "stream",
     "text": [
      "0.037908315658569336\n"
     ]
    }
   ],
   "source": [
    "s_t = time.time()\n",
    "yersinia_snv_clustering_c4 = pathogist.cluster.c4_correlation(yersinia_snv_dist, threshold=2500)\n",
    "e_t = time.time()\n",
    "print(e_t - s_t)"
   ]
  },
  {
   "cell_type": "markdown",
   "metadata": {
    "collapsed": true
   },
   "source": [
    "#### Time with current correlation clustering algorithm"
   ]
  },
  {
   "cell_type": "code",
   "execution_count": 10,
   "metadata": {},
   "outputs": [
    {
     "name": "stdout",
     "output_type": "stream",
     "text": [
      "113.8979766368866\n"
     ]
    }
   ],
   "source": [
    "s_t = time.time()\n",
    "yersinia_snv_clustering = pathogist.cluster.correlation(yersinia_snv_dist, threshold=2500)\n",
    "e_t = time.time()\n",
    "print(e_t - s_t)"
   ]
  },
  {
   "cell_type": "markdown",
   "metadata": {
    "collapsed": true
   },
   "source": [
    "#### Adjusted rand index between output of c4 and current correlation clustering"
   ]
  },
  {
   "cell_type": "code",
   "execution_count": 13,
   "metadata": {},
   "outputs": [
    {
     "data": {
      "text/plain": [
       "1.0"
      ]
     },
     "execution_count": 13,
     "metadata": {},
     "output_type": "execute_result"
    }
   ],
   "source": [
    "pathogist.cluster.adjusted_rand_index(yersinia_snv_clustering_c4, yersinia_snv_clustering)"
   ]
  },
  {
   "cell_type": "markdown",
   "metadata": {
    "collapsed": true
   },
   "source": [
    "### M. Tuberculosis MLST"
   ]
  },
  {
   "cell_type": "markdown",
   "metadata": {
    "collapsed": true
   },
   "source": [
    "#### Time with c4 parallel correlation clustering algorithm"
   ]
  },
  {
   "cell_type": "code",
   "execution_count": 10,
   "metadata": {},
   "outputs": [
    {
     "name": "stdout",
     "output_type": "stream",
     "text": [
      "0.4765915870666504\n"
     ]
    }
   ],
   "source": [
    "s_t = time.time()\n",
    "tb_mlst_clustering_c4 = pathogist.cluster.c4_correlation(tb_mlst_dist.loc[tb_sample_subset, tb_sample_subset], threshold=700)\n",
    "e_t = time.time()\n",
    "print(e_t - s_t)"
   ]
  },
  {
   "cell_type": "markdown",
   "metadata": {
    "collapsed": true
   },
   "source": [
    "#### Time with current correlation clustering algorithm"
   ]
  },
  {
   "cell_type": "code",
   "execution_count": 11,
   "metadata": {},
   "outputs": [
    {
     "name": "stdout",
     "output_type": "stream",
     "text": [
      "31.19114398956299\n"
     ]
    }
   ],
   "source": [
    "s_t = time.time()\n",
    "tb_mlst_clustering = pathogist.cluster.correlation(tb_mlst_dist.loc[tb_sample_subset, tb_sample_subset], threshold=700)\n",
    "e_t = time.time()\n",
    "print(e_t - s_t)"
   ]
  },
  {
   "cell_type": "markdown",
   "metadata": {
    "collapsed": true
   },
   "source": [
    "#### Adjusted rand index between outpu###t of c4 and current correlation clustering"
   ]
  },
  {
   "cell_type": "markdown",
   "metadata": {},
   "source": [
    "pathogist.cluster.adjusted_rand_index(tb_mlst_clustering_c4, tb_mlst_clustering)"
   ]
  },
  {
   "cell_type": "markdown",
   "metadata": {},
   "source": [
    "## Comparing outputs of different runs of c4"
   ]
  },
  {
   "cell_type": "code",
   "execution_count": 14,
   "metadata": {},
   "outputs": [],
   "source": [
    "c4_output_clusterings = []\n",
    "for i in range(20):\n",
    "    c4_output_clusterings += [pathogist.cluster.c4_correlation(ecoli_mlst_dist, threshold=1500)]"
   ]
  },
  {
   "cell_type": "code",
   "execution_count": 18,
   "metadata": {
    "collapsed": true
   },
   "outputs": [],
   "source": [
    "ARIs = []\n",
    "for c1, c2 in itertools.combinations(c4_output_clusterings, 2):\n",
    "    ARIs += [pathogist.cluster.adjusted_rand_index(c1, c2)]"
   ]
  },
  {
   "cell_type": "code",
   "execution_count": 28,
   "metadata": {},
   "outputs": [
    {
     "name": "stdout",
     "output_type": "stream",
     "text": [
      "Max: 1.0\n",
      "Min: 0.8854203855765799\n",
      "Mean: 0.9812659935475349\n",
      "Standard deviation: 0.026893225864310304\n"
     ]
    }
   ],
   "source": [
    "print('Max:', max(ARIs))\n",
    "print('Min:', min(ARIs))\n",
    "print('Mean:', statistics.mean(ARIs))\n",
    "print('Standard deviation:', statistics.stdev(ARIs))"
   ]
  }
 ],
 "metadata": {
  "kernelspec": {
   "display_name": "Python 3",
   "language": "python",
   "name": "python3"
  },
  "language_info": {
   "codemirror_mode": {
    "name": "ipython",
    "version": 3
   },
   "file_extension": ".py",
   "mimetype": "text/x-python",
   "name": "python",
   "nbconvert_exporter": "python",
   "pygments_lexer": "ipython3",
   "version": "3.6.2"
  }
 },
 "nbformat": 4,
 "nbformat_minor": 2
}
