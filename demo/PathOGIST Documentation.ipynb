{
 "cells": [
  {
   "cell_type": "markdown",
   "metadata": {},
   "source": [
    "# Documentation"
   ]
  },
  {
   "cell_type": "markdown",
   "metadata": {},
   "source": [
    "## Installation"
   ]
  },
  {
   "cell_type": "markdown",
   "metadata": {},
   "source": [
    "PathOGIST can be easily installed through conda. First install conda at https://www.anaconda.com/download/ and select the corresponding system. Once you have installed conda, follow the code below to install PathOGIST."
   ]
  },
  {
   "cell_type": "code",
   "execution_count": null,
   "metadata": {},
   "outputs": [],
   "source": [
    "conda create --name pathogist python=3.5\n",
    "source activate pathogist\n",
    "conda install -c seanla pathogist"
   ]
  },
  {
   "cell_type": "markdown",
   "metadata": {},
   "source": [
    "To use PATHOGIST, we need to activate the pathogist environment"
   ]
  },
  {
   "cell_type": "code",
   "execution_count": 102,
   "metadata": {},
   "outputs": [
    {
     "name": "stdout",
     "output_type": "stream",
     "text": [
      "(pathogist) "
     ]
    },
    {
     "ename": "",
     "evalue": "1",
     "output_type": "error",
     "traceback": []
    }
   ],
   "source": [
    "source activate pathogist"
   ]
  },
  {
   "cell_type": "code",
   "execution_count": 103,
   "metadata": {},
   "outputs": [
    {
     "name": "stdout",
     "output_type": "stream",
     "text": [
      "(pathogist) usage: PATHOGIST [-h] [-ll {DEBUG,INFO,WARNING,ERROR,CRITICAL}]\n",
      "                 {run,correlation,consensus,distance,visualize} ...\n",
      "\n",
      "PathOGiST Version 1.0\n",
      "Copyright (C) 2018 Leonid Chindelevitch, Cedric Chauve, William Hsiao\n",
      "\n",
      "positional arguments:\n",
      "  {run,correlation,consensus,distance,visualize}\n",
      "    run                 run entire PathOGiST pipeline, from genotyping to clustering\n",
      "    correlation         perform correlation clustering\n",
      "    consensus           perform consensus clustering on multiple clusterings\n",
      "    distance            construct distance matrix from genotyping data\n",
      "    visualize           visualize distance matrix or clustering\n",
      "\n",
      "optional arguments:\n",
      "  -h, --help            show this help message and exit\n",
      "  -ll {DEBUG,INFO,WARNING,ERROR,CRITICAL}, --loglevel {DEBUG,INFO,WARNING,ERROR,CRITICAL}\n",
      "                        Set the logging level\n",
      "(pathogist) "
     ]
    },
    {
     "ename": "",
     "evalue": "1",
     "output_type": "error",
     "traceback": []
    }
   ],
   "source": [
    "PATHOGIST=/home/klw17/dev/PathOGiST/PATHOGIST\n",
    "$PATHOGIST -h"
   ]
  },
  {
   "cell_type": "markdown",
   "metadata": {},
   "source": [
    "## Modules of PATHOGIST"
   ]
  },
  {
   "cell_type": "markdown",
   "metadata": {},
   "source": [
    "## Run Subcommand"
   ]
  },
  {
   "cell_type": "markdown",
   "metadata": {},
   "source": [
    "This subcommand runs the PathOGiST pipeline from start to finish (i.e. genotyping -> distance matrix creation -> correlation clustering -> consensus clustering). We recommend users to use the run subcommand as PathOGIST will automatically created the modified version of genotype input for its distance matrix calculations."
   ]
  },
  {
   "cell_type": "code",
   "execution_count": 112,
   "metadata": {},
   "outputs": [
    {
     "name": "stdout",
     "output_type": "stream",
     "text": [
      "usage: PATHOGIST run [-h] [-n] CONFIG\n",
      "\n",
      "positional arguments:\n",
      "  CONFIG            path to input configuration file, or path to write a new\n",
      "                    configuration file\n",
      "\n",
      "optional arguments:\n",
      "  -h, --help        show this help message and exit\n",
      "  -n, --new_config  write a blank configuration file at path given by CONFIG\n",
      "(pathogist) "
     ]
    },
    {
     "ename": "",
     "evalue": "1",
     "output_type": "error",
     "traceback": []
    }
   ],
   "source": [
    "$PATHOGIST run -h"
   ]
  },
  {
   "cell_type": "markdown",
   "metadata": {},
   "source": [
    "To use the run subcommand, we first have to create a config file and modify it."
   ]
  },
  {
   "cell_type": "code",
   "execution_count": 113,
   "metadata": {},
   "outputs": [
    {
     "name": "stdout",
     "output_type": "stream",
     "text": [
      "New configuration file written at ./config.yaml\n",
      "(pathogist) "
     ]
    },
    {
     "ename": "",
     "evalue": "1",
     "output_type": "error",
     "traceback": []
    }
   ],
   "source": [
    "$PATHOGIST run -n ./config.yaml"
   ]
  },
  {
   "cell_type": "markdown",
   "metadata": {},
   "source": [
    "Now let's have a look a look at the config file"
   ]
  },
  {
   "cell_type": "code",
   "execution_count": 114,
   "metadata": {
    "scrolled": true
   },
   "outputs": [
    {
     "name": "stdout",
     "output_type": "stream",
     "text": [
      "---\n",
      "# PathOGiST configuration file.\n",
      "# This configuration file is in YAML file format, release 1.2 (Third Edition).\n",
      "# Google yaml for the specification.\n",
      "# Un-comment example files to use\n",
      "# Directory to save temporary files.\n",
      "temp: tests/integration_tests/temp_dir\n",
      "# Number of threads on your computer\n",
      "threads: 1\n",
      "# Select what tools to run: 1 to run and 0 to not run.\n",
      "run:\n",
      "  snippy: 1\n",
      "  kwip: 1\n",
      "  prince: 1\n",
      "  spotyping: 1\n",
      "  mentalist: 1\n",
      "# Command line options for tools to genotype your raw reads\n",
      "genotyping:\n",
      "  input_reads:\n",
      "    forward_reads: #/home/usr/forwards.txt\n",
      "    reverse_reads: #/home/usr/reverse.txt\n",
      "  mentalist:\n",
      "    # Choose 1 of the following option for mentalist to obtain a mlst database by selecting 1 and 0 for the others\n",
      "    db_loc:\n",
      "      local_file: 1\n",
      "      build_db: 0\n",
      "      download_pubmlst: 0\n",
      "      download_cgmlst: 0\n",
      "      download_enterobase: 0\n",
      "    local_file:\n",
      "      database: #/home/usr/mlst.db\n",
      "    build_db:\n",
      "      options:\n",
      "        ## kmer size\n",
      "        k:\n",
      "        ## FASTA files with the MLST scheme\n",
      "        fasta_files:\n",
      "        ## profile file for known genotypes\n",
      "        profile:\n",
      "    download_pubmlst:\n",
      "      options:\n",
      "        ## Kmer size\n",
      "        k:\n",
      "        ## Species name or scheme ID\n",
      "        scheme:\n",
      "    download_cgmlst:\n",
      "      options:\n",
      "        ## Kmer size\n",
      "        k:\n",
      "        ## Species name or scheme ID\n",
      "        scheme:\n",
      "    download_enterobase:\n",
      "      options:\n",
      "        ## Kmer size\n",
      "        k:\n",
      "        ## Letter identifying which scheme: \n",
      "        ## (S)almonella, (Y)ersinia, or (E)scherichia/Shigella\n",
      "        scheme:\n",
      "        ## Choose the type: 'cg' or 'wg' for cgMLST or wgMLST, respectively.\n",
      "        type:\n",
      "    call:\n",
      "      options:\n",
      "        ## Maximum number of mutations when looking for novel alleles \n",
      "        mutation_threshold: 6\n",
      "        ## Minimum number of times a kmer is seen to be considered present in the sample \n",
      "        ## (solid)\n",
      "        kt: 10\n",
      "      flags:\n",
      "        ## Outputs the results for the original voting algorithm. \n",
      "        #- output_votes\n",
      "        ## Outputs a FASTA file with the alleles from 'special cases' such as incomplete \n",
      "        ## coverage, novel, and multiple alleles. \n",
      "        #- output_special\n",
      "  kwip:\n",
      "    kwip_path: #/home/usr/bin/kwip\n",
      "    khmer_options:\n",
      "      N: 1\n",
      "      x: 1e9\n",
      "      # k-mer size to use\n",
      "      ksize: 31\n",
      "      # approximate number of unique kmers in the input set\n",
      "      unique-kmers: 0\n",
      "    kwip_options:\n",
      "      #weights:\n",
      "    kwip_flags:\n",
      "      #- unweighted\n",
      "      #- calc_weights\n",
      "  prince:\n",
      "    options:\n",
      "      # VNTR templates. Default is for M.TB\n",
      "      #templates:\n",
      "  snippy:\n",
      "    options:\n",
      "      # Reference genome. Supports FASTA, GenBank, EMBL (not GFF)\n",
      "      reference: #/home/usr/ref.fa\n",
      "      # Minimum read mapping quality to consider\n",
      "      mapqual: 60\n",
      "      # Minimum base quality to consider\n",
      "      basequal: 20\n",
      "      # Minimum coverage of variant site\n",
      "      mincov: 10\n",
      "      # Minimum proportion for variant evidence\n",
      "      minfrac: 0.9\n",
      "      # Use this @RG ID: in the bam header\n",
      "      #rgid:\n",
      "      # Extra BWA MEM options, e.g. -x pacbio\n",
      "      #bwaopt:\n",
      "    flags:\n",
      "      ## Keep unmapped reads in BAM and write FASTQ.\n",
      "      #- unmapped\n",
      "  spotyping:\n",
      "    # Path to SpoTyping.py file\n",
      "    path: #/home/usr/Spotyping.py\n",
      "    options:\n",
      "      #swift: on\n",
      "      #min: 5\n",
      "      #rmin: 6\n",
      "      #outdir: ./\n",
      "      #output: SpoTyping\n",
      "    flags:\n",
      "      #- seq\n",
      "      #- noQuery\n",
      "      #- filter\n",
      "      #- sorted\n",
      "# Do not remove the sections 'genotyping', 'distances', 'thresholds', 'all_constraints', or 'output'.\n",
      "# Remove all key-value pairs in the sections 'calls' or 'distances' if you want them blank.\n",
      "# Remove all list items in the section 'fine_clusterings' if you want that blank, too.\n",
      "# Keys from 'genotyping' and 'distances' sections should not overlap.\n",
      "clustering:\n",
      "  # Output prefix for final consensus clustering and visualization\n",
      "  output_prefix: tests/integration_tests/test_data/yersinia_final_clustering\n",
      "  # Raw genotyping data from which to create distance matrices.\n",
      "  # Accepted values are paths to text files containing paths to genotyping files.\n",
      "  # Currently only compatible with SNPs from snippy, MLSTs from MentaLiST, and CNVs from PRINCE\n",
      "  genotyping: \n",
      "    MLST: #/home/usr/mentalist_calls.txt\n",
      "    CNV: #/home/usr/prince_calls.txt\n",
      "    spoligotyping: #/home/usr/spotyping_calls.txt\n",
      "    SNP: #/home/usr/snippy_calls.txt\n",
      "  # Bed file to filter snps before distance matrix generation( applies to both existing or newly generated snp calls).\n",
      "  genotyping_options:\n",
      "    bed_filter: #/home/usr/filter.bed\n",
      "  # Paths to pre-constructed distance matrices in tsv format.\n",
      "  # You can also specify SNP, MLST, spoligotypoing and CNV distance matrices here if you \n",
      "  # pre-constructed them, but then they shouldn't appear in the section 'genotyping'.\n",
      "  distances:\n",
      "    kWIP: #/home/usr/kwip_dist.tsv\n",
      "  # The genotyping datatypes that are considered to be the \"finest\".\n",
      "  fine_clusterings:\n",
      "    - SNP\n",
      "  # Threshold values for performing correlation clustering on genotyping data types given above\n",
      "  # Every key appearing in the sections 'genotyping' and 'distances' should appear \n",
      "  # here with a value. \n",
      "  thresholds:\n",
      "    SNP: 2500\n",
      "    CNV: 100\n",
      "    kWIP: 0.4\n",
      "    MLST: 300\n",
      "    spoligotyping: 8\n",
      "  # Use all constraints when performing correlation and consensus clustering\n",
      "  all_constraints: True\n",
      "  # Method to use for the clustering algorithm; choices are `C4` or `ILP`\n",
      "  method: C4\n",
      "  presolve: True\n",
      "  # Visualize Clusters; choices are `True` or `False`\n",
      "  visualize: False\n",
      "...\n",
      "(pathogist) "
     ]
    },
    {
     "ename": "",
     "evalue": "1",
     "output_type": "error",
     "traceback": []
    }
   ],
   "source": [
    "cat config.yaml"
   ]
  },
  {
   "cell_type": "markdown",
   "metadata": {},
   "source": [
    "There are lots of options to customize in the config file. Fortunately, the majority of the options have already been filled in. You only need to fill in the options using the template examples provided."
   ]
  },
  {
   "cell_type": "markdown",
   "metadata": {},
   "source": [
    "For more information about the various genotyping options, please visit:<br>\n",
    "https://github.com/WGS-TB/MentaLiST, for mentalist<br>\n",
    "https://kwip.readthedocs.io/en/latest/, for kwip<br>\n",
    "https://github.com/WGS-TB/PythonPRINCE/, for prince<br>\n",
    "https://github.com/xiaeryu/SpoTyping, for spotyping<br>\n",
    "https://github.com/tseemann/snippy, for snippy<br>"
   ]
  },
  {
   "cell_type": "markdown",
   "metadata": {},
   "source": [
    "Let's look at a filled out config file"
   ]
  },
  {
   "cell_type": "code",
   "execution_count": 115,
   "metadata": {},
   "outputs": [
    {
     "name": "stdout",
     "output_type": "stream",
     "text": [
      "---\n",
      "# PathOGiST configuration file.\n",
      "# This configuration file is in YAML file format, release 1.2 (Third Edition).\n",
      "# Google yaml for the specification.\n",
      "\n",
      "# Directory to save temporary files.\n",
      "temp: /home/klw17/temp_files/\n",
      "# Number of threads on your computer\n",
      "threads: 64\n",
      "# Select what tools to run: 1 to run and 0 to not run.\n",
      "run:\n",
      "  snippy: 1\n",
      "  kwip: 1\n",
      "  prince: 1\n",
      "  spotyping: 1\n",
      "  mentalist: 1\n",
      "# Command line options for tools to genotype your raw reads\n",
      "genotyping:\n",
      "  input_reads:\n",
      "    forward_reads: /home/klw17/tb_5_forward.txt\n",
      "    reverse_reads: /home/klw17/tb_5_reverse.txt\n",
      "  mentalist:\n",
      "    # Choose 1 of the following option for mentalist to obtain a mlst database by selecting 1 and 0 for the others\n",
      "    db_loc:\n",
      "      local_file: 1\n",
      "      build_db: 0\n",
      "      download_pubmlst: 0\n",
      "      download_cgmlst: 0\n",
      "      download_enterobase: 0\n",
      "    local_file:\n",
      "      database: /projects/pathogist/cgMLST/MTB/Jan2019/mtb_31_Jan2019.db\n",
      "    build_db:\n",
      "      options:\n",
      "        ## kmer size\n",
      "        k:\n",
      "        ## FASTA files with the MLST scheme\n",
      "        fasta_files:\n",
      "        ## profile file for known genotypes\n",
      "        profile:\n",
      "    download_pubmlst:\n",
      "      options:\n",
      "        ## Kmer size\n",
      "        k:\n",
      "        ## Species name or scheme ID\n",
      "        scheme:\n",
      "    download_cgmlst:\n",
      "      options:\n",
      "        ## Kmer size\n",
      "        k:\n",
      "        ## Species name or scheme ID\n",
      "        scheme:\n",
      "    download_enterobase:\n",
      "      options:\n",
      "        ## Kmer size\n",
      "        k: 20\n",
      "        ## Letter identifying which scheme: \n",
      "        ## (S)almonella, (Y)ersinia, or (E)scherichia/Shigella\n",
      "        scheme: Y\n",
      "        ## Choose the type: 'cg' or 'wg' for cgMLST or wgMLST, respectively.\n",
      "        type: cg\n",
      "    call:\n",
      "      options:\n",
      "        ## Maximum number of mutations when looking for novel alleles \n",
      "        mutation_threshold: 6\n",
      "        ## Minimum number of times a kmer is seen to be considered present in the sample \n",
      "        ## (solid)\n",
      "        kt: 10\n",
      "      flags:\n",
      "        ## Outputs the results for the original voting algorithm. \n",
      "        #- output_votes\n",
      "        ## Outputs a FASTA file with the alleles from 'special cases' such as incomplete \n",
      "        ## coverage, novel, and multiple alleles. \n",
      "        #- output_special\n",
      "  kwip:\n",
      "    kwip_path: /home/klw17/bin/kwip\n",
      "    khmer_options:\n",
      "      N: 1\n",
      "      x: 1e9\n",
      "      # k-mer size to use\n",
      "      ksize: 31\n",
      "      # approximate number of unique kmers in the input set\n",
      "      unique-kmers: 0\n",
      "    kwip_options:\n",
      "      #weights:\n",
      "    kwip_flags:\n",
      "      #- unweighted\n",
      "      #- calc_weights\n",
      "  prince:\n",
      "    options:\n",
      "      # VNTR templates. Default is for M.TB\n",
      "      #templates:\n",
      "  snippy:\n",
      "    options:\n",
      "      # Reference genome. Supports FASTA, GenBank, EMBL (not GFF)\n",
      "      reference: /projects/pathogist/klw17/ref/tb_NC_000962.3/NC_000962.3.norm.fa\n",
      "      # Minimum read mapping quality to consider\n",
      "      mapqual: 60\n",
      "      # Minimum base quality to consider\n",
      "      basequal: 20\n",
      "      # Minimum coverage of variant site\n",
      "      mincov: 10\n",
      "      # Minimum proportion for variant evidence\n",
      "      minfrac: 0.9\n",
      "      # Use this @RG ID: in the bam header\n",
      "      #rgid:\n",
      "      # Extra BWA MEM options, e.g. -x pacbio\n",
      "      #bwaopt:\n",
      "    flags:\n",
      "      ## Keep unmapped reads in BAM and write FASTQ.\n",
      "      #- unmapped\n",
      "  spotyping:\n",
      "    # Path to SpoTyping.py file\n",
      "    path: /home/klw17/anaconda3/envs/spotyping/bin/SpoTyping.py\n",
      "    options:\n",
      "      #swift: on\n",
      "      #min: 5\n",
      "      #rmin: 6\n",
      "      #outdir: ./\n",
      "      #output: SpoTyping\n",
      "    flags:\n",
      "      #- seq\n",
      "      #- noQuery\n",
      "      #- filter\n",
      "      #- sorted\n",
      "# Do not remove the sections 'genotyping', 'distances', 'thresholds', 'all_constraints', or 'output'.\n",
      "# Remove all key-value pairs in the sections 'calls' or 'distances' if you want them blank.\n",
      "# Remove all list items in the section 'fine_clusterings' if you want that blank, too.\n",
      "# Keys from 'genotyping' and 'distances' sections should not overlap.\n",
      "clustering:\n",
      "  # Output prefix for final consensus clustering and visualization\n",
      "  output_prefix: final_test\n",
      "  # Raw genotyping data from which to create distance matrices.\n",
      "  # Accepted values are paths to text files containing paths to genotyping files.\n",
      "  # Currently only compatible with SNPs from snippy, MLSTs from MentaLiST, and CNVs from PRINCE\n",
      "  genotyping: \n",
      "    SNP: \n",
      "    MLST: \n",
      "    CNV:\n",
      "    spoligotyping:\n",
      "  genotyping_options:\n",
      "    bed_filter: /home/klw17/tb_test.bed\n",
      "  # Paths to pre-constructed distance matrices in tsv format.\n",
      "  # You can also specify SNP, MLST, spoligotypoing and CNV distance matrices here if you \n",
      "  # pre-constructed them, but then they shouldn't appear in the section 'genotyping'.\n",
      "  distances:\n",
      "    kwip:\n",
      "  # The genotyping datatypes that are considered to be the \"finest\".\n",
      "  fine_clusterings:\n",
      "    - SNP\n",
      "  # Threshold values for performing correlation clustering on genotyping data types given above\n",
      "  # Every key appearing in the sections 'genotyping' and 'distances' should appear \n",
      "  # here with a value. \n",
      "  thresholds:\n",
      "    SNP: 1000 \n",
      "    CNV: 100\n",
      "    kWIP: 1\n",
      "    MLST: 100\n",
      "    spoligotyping: 8\n",
      "  # Use all constraints when performing correlation and consensus clustering\n",
      "  all_constraints: True\n",
      "  # Method to use for the clustering algorithm; choices are `C4` or `ILP`\n",
      "  method: C4\n",
      "  presolve: True\n",
      "  # Visualize Clusters; choices are `True` or `False`\n",
      "  visualize: False\n",
      "...\n",
      "(pathogist) "
     ]
    },
    {
     "ename": "",
     "evalue": "1",
     "output_type": "error",
     "traceback": []
    }
   ],
   "source": [
    "cat /home/klw17/dev/PathOGiST/tb_test_config.yaml"
   ]
  },
  {
   "cell_type": "markdown",
   "metadata": {},
   "source": [
    "To run with a completed config file, simply do the following:"
   ]
  },
  {
   "cell_type": "code",
   "execution_count": null,
   "metadata": {},
   "outputs": [],
   "source": [
    "$PATHOGIST run /home/klw17/dev/PathOGiST/tb_test_config.yaml"
   ]
  },
  {
   "cell_type": "markdown",
   "metadata": {},
   "source": [
    "The final correlation file will be saved to what you have inputted for the output_prefix file"
   ]
  },
  {
   "cell_type": "code",
   "execution_count": 131,
   "metadata": {},
   "outputs": [
    {
     "name": "stdout",
     "output_type": "stream",
     "text": [
      "\tConsensus\tMLST\tspoligotyping\tSNP\tCNV\tkWIP\n",
      "SRR6152639\t1\t1\t1\t1\t1\t1\n",
      "SRR6152640\t2\t2\t2\t2\t1\t2\n",
      "SRR6152641\t1\t3\t1\t1\t1\t1\n",
      "SRR6152642\t1\t4\t1\t1\t1\t1\n",
      "SRR6152643\t1\t4\t1\t1\t1\t3\n",
      "(pathogist) "
     ]
    },
    {
     "ename": "",
     "evalue": "1",
     "output_type": "error",
     "traceback": []
    }
   ],
   "source": [
    "cat /home/klw17/pathogist_all/final_test.tsv"
   ]
  },
  {
   "cell_type": "markdown",
   "metadata": {},
   "source": [
    "The above config file generates the genotyping calls. If you already have the genotyping calls or the distance matrix created, you can use those instead. Check out the config and path files at https://github.com/WGS-TB/PathOGiST/blob/genotype_of_john/tests/integration_tests/test3_data/ and https://github.com/WGS-TB/PathOGiST/blob/genotype_of_john/tests/integration_tests/test4_data/ to see examples on how to format your files."
   ]
  },
  {
   "cell_type": "markdown",
   "metadata": {},
   "source": [
    "## Distance Subcommand"
   ]
  },
  {
   "cell_type": "markdown",
   "metadata": {},
   "source": [
    "This subcommand allows the user to run only the distance matrix creation of the PathOGIST pipeline. If the user already has the genotyping step done, they can use this module to construct their distance matrix. PathOGIST uses the hamming distance metrics to create the distance matrix."
   ]
  },
  {
   "cell_type": "code",
   "execution_count": 104,
   "metadata": {},
   "outputs": [
    {
     "name": "stdout",
     "output_type": "stream",
     "text": [
      "usage: PATHOGIST distance [-h] [--bed BED]\n",
      "                          calls_path {MLST,CNV,SNP,Spoligotype} output_path\n",
      "\n",
      "positional arguments:\n",
      "  calls_path            path to file containing paths to signal calls (e.g.\n",
      "                        MLST calls, CNV calls, etc)\n",
      "  {MLST,CNV,SNP,Spoligotype}\n",
      "                        genotyping data\n",
      "  output_path           path to output tsv file\n",
      "\n",
      "optional arguments:\n",
      "  -h, --help            show this help message and exit\n",
      "  --bed BED             bed file of unwanted SNP positions in the genome\n",
      "(pathogist) "
     ]
    },
    {
     "ename": "",
     "evalue": "1",
     "output_type": "error",
     "traceback": []
    }
   ],
   "source": [
    "$PATHOGIST distance -h"
   ]
  },
  {
   "cell_type": "markdown",
   "metadata": {},
   "source": [
    "### Example 1 with SNP genotyping data:\n",
    "An example calls_path file will look like this:"
   ]
  },
  {
   "cell_type": "code",
   "execution_count": 44,
   "metadata": {},
   "outputs": [
    {
     "name": "stdout",
     "output_type": "stream",
     "text": [
      "(pathogist2) /projects/pathogist/klw17/PathOGiSTPrivate/genotyping/yersinia_Williamson/mentalist/unfiltered/original_calls/ERR024893.class\n",
      "/projects/pathogist/klw17/PathOGiSTPrivate/genotyping/yersinia_Williamson/mentalist/unfiltered/original_calls/ERR024894.class\n",
      "/projects/pathogist/klw17/PathOGiSTPrivate/genotyping/yersinia_Williamson/mentalist/unfiltered/original_calls/ERR024895.class\n",
      "(pathogist2) "
     ]
    },
    {
     "ename": "",
     "evalue": "1",
     "output_type": "error",
     "traceback": []
    }
   ],
   "source": [
    "snp_calls_path=/projects/pathogist/klw17/genotyping/yersinia_pseudotuberculosis/snippy_dec_02/dist/primitive_snippy_calls.txt\n",
    "head -n 3 $calls_path"
   ]
  },
  {
   "cell_type": "markdown",
   "metadata": {},
   "source": [
    "Running distance matrix generation with SNP data:"
   ]
  },
  {
   "cell_type": "code",
   "execution_count": 75,
   "metadata": {},
   "outputs": [
    {
     "name": "stdout",
     "output_type": "stream",
     "text": [
      "(pathogist2) 07:11:54 AM (5183 ms) -> INFO:Creating distance matrix ...\n",
      "07:12:37 AM (48501 ms) -> INFO:Writing distance matrix ...\n",
      "07:12:37 AM (48569 ms) -> INFO:Distance matrix creation complete!\n",
      "(pathogist2) "
     ]
    },
    {
     "ename": "",
     "evalue": "1",
     "output_type": "error",
     "traceback": []
    }
   ],
   "source": [
    "snp_dist_output=snp_distance_matrix.tsv\n",
    "$PATHOGIST distance $snp_calls_path SNP $snp_dist_output"
   ]
  },
  {
   "cell_type": "markdown",
   "metadata": {},
   "source": [
    "Below is a small portion of the resulting distance matrix"
   ]
  },
  {
   "cell_type": "code",
   "execution_count": 76,
   "metadata": {},
   "outputs": [
    {
     "name": "stdout",
     "output_type": "stream",
     "text": [
      "\tERR1413989\tERR024905\tERR1414006\n",
      "ERR1413989\t0\t16103\t16454\n",
      "ERR024905\t16103\t0\t449\n",
      "ERR1414006\t16454\t449\t0\n",
      "SRR1922794\t18117\t17754\t17957\n",
      "ERR024903\t22463\t22004\t22427\n",
      "ERR1414057\t16454\t449\t0\n",
      "ERR024922\t19108\t9906\t9935\n",
      "ERR1413986\t1807\t15678\t16027\n",
      "ERR024921\t25691\t25346\t25721\n",
      "(pathogist2) "
     ]
    },
    {
     "ename": "",
     "evalue": "1",
     "output_type": "error",
     "traceback": []
    }
   ],
   "source": [
    "head $snp_dist_output | cut -f 1,2,3,4"
   ]
  },
  {
   "cell_type": "markdown",
   "metadata": {},
   "source": [
    "*Attention* PathOGIST requires modified SNP genotyping input. The SNP input should only contain SNP substitution. An example SNP genotyping input file will be formatted as such with the name of the sample as the first line"
   ]
  },
  {
   "cell_type": "code",
   "execution_count": 26,
   "metadata": {
    "scrolled": true
   },
   "outputs": [
    {
     "name": "stdout",
     "output_type": "stream",
     "text": [
      "ERR024892\n",
      "CHROM\tPOS\tTYPE\tREF\tALT\tEVIDENCE\tFTYPE\tSTRAND\tNT_POS\tAA_POS\tEFFECT\tLOCUS_TAG\tGENE\tPRODUCT\n",
      "NZ_LT596221.1\t309\tsnp\tT\tC\tC:10 T:0\t\t\t\t\t\t\t\t\n",
      "NZ_LT596221.1\t663\tsnp\tC\tT\tT:10 C:0\t\t\t\t\t\t\t\t\n",
      "NZ_LT596221.1\t1432\tsnp\tA\tG\tG:10 A:1\t\t\t\t\t\t\t\t\n",
      "(pathogist2) "
     ]
    },
    {
     "ename": "",
     "evalue": "1",
     "output_type": "error",
     "traceback": []
    }
   ],
   "source": [
    "head -n5 /projects/pathogist/klw17/genotyping/yersinia_pseudotuberculosis/snippy_dec_02/snps/ERR024892/snps.primitive.tab"
   ]
  },
  {
   "cell_type": "markdown",
   "metadata": {},
   "source": [
    "### Example 2 with MLST genotyping data:"
   ]
  },
  {
   "cell_type": "markdown",
   "metadata": {},
   "source": [
    "An example calls_path file will look like this:"
   ]
  },
  {
   "cell_type": "code",
   "execution_count": 27,
   "metadata": {},
   "outputs": [
    {
     "name": "stdout",
     "output_type": "stream",
     "text": [
      "(pathogist2) /projects/pathogist/klw17/PathOGiSTPrivate/genotyping/yersinia_Williamson/mentalist/unfiltered/original_calls/ERR024893.class\n",
      "/projects/pathogist/klw17/PathOGiSTPrivate/genotyping/yersinia_Williamson/mentalist/unfiltered/original_calls/ERR024894.class\n",
      "/projects/pathogist/klw17/PathOGiSTPrivate/genotyping/yersinia_Williamson/mentalist/unfiltered/original_calls/ERR024895.class\n",
      "(pathogist2) "
     ]
    },
    {
     "ename": "",
     "evalue": "1",
     "output_type": "error",
     "traceback": []
    }
   ],
   "source": [
    "calls_path=/home/klw17/yersinia_mlst_calls.txt\n",
    "head -n 3 $calls_path"
   ]
  },
  {
   "cell_type": "markdown",
   "metadata": {},
   "source": [
    "Running distance matrix generation with MLST data:"
   ]
  },
  {
   "cell_type": "code",
   "execution_count": 96,
   "metadata": {},
   "outputs": [
    {
     "name": "stdout",
     "output_type": "stream",
     "text": [
      "(pathogist2) 04:51:31 PM (3496 ms) -> INFO:Creating distance matrix ...\n",
      "04:51:34 PM (6061 ms) -> INFO:Writing distance matrix ...\n",
      "04:51:34 PM (6122 ms) -> INFO:Distance matrix creation complete!\n",
      "(pathogist2) "
     ]
    },
    {
     "ename": "",
     "evalue": "1",
     "output_type": "error",
     "traceback": []
    }
   ],
   "source": [
    "mlst_dist_output=mlst_distance_matrix.tsv\n",
    "$PATHOGIST distance $calls_path MLST $mlst_dist_output"
   ]
  },
  {
   "cell_type": "markdown",
   "metadata": {},
   "source": [
    "Below is a small portion of the resulting distance matrix"
   ]
  },
  {
   "cell_type": "code",
   "execution_count": 33,
   "metadata": {},
   "outputs": [
    {
     "name": "stdout",
     "output_type": "stream",
     "text": [
      "\tSRR1922796\tERR1414057\tERR1414049\n",
      "SRR1922796\t0\t986\t987\n",
      "ERR1414057\t986\t0\t1\n",
      "ERR1414049\t987\t1\t0\n",
      "ERR024915\t1527\t1531\t1531\n",
      "ERR1413984\t1063\t1107\t1106\n",
      "ERR1414067\t986\t1\t2\n",
      "ERR1414030\t986\t2\t3\n",
      "ERR1414048\t987\t3\t4\n",
      "ERR1414080\t987\t4\t3\n",
      "(pathogist2) "
     ]
    },
    {
     "ename": "",
     "evalue": "1",
     "output_type": "error",
     "traceback": []
    }
   ],
   "source": [
    "head $dist_output | cut -f 1,2,3,4"
   ]
  },
  {
   "cell_type": "markdown",
   "metadata": {},
   "source": [
    "## Correlation Subcommand"
   ]
  },
  {
   "cell_type": "markdown",
   "metadata": {},
   "source": [
    "This subcommand allows the user to cluster their samples based on the distance matrix of different genotypes using correlation clustering."
   ]
  },
  {
   "cell_type": "code",
   "execution_count": 105,
   "metadata": {},
   "outputs": [
    {
     "name": "stdout",
     "output_type": "stream",
     "text": [
      "usage: PATHOGIST correlation [-h] [-a] [-m {C4,ILP}] [-p]\n",
      "                             distance_matrix threshold output_path\n",
      "\n",
      "positional arguments:\n",
      "  distance_matrix       path to the distance matrix file\n",
      "  threshold             threshold value for correlation\n",
      "  output_path           path to write cluster output tsv file\n",
      "\n",
      "optional arguments:\n",
      "  -h, --help            show this help message and exit\n",
      "  -a, --all_constraints\n",
      "                        add all constraints to the optimization problem, not\n",
      "                        just those with mixed signs.\n",
      "  -m {C4,ILP}, --method {C4,ILP}\n",
      "                        Method for correlation clustering\n",
      "  -p, --presolve        presolve the ILP\n",
      "(pathogist) "
     ]
    },
    {
     "ename": "",
     "evalue": "1",
     "output_type": "error",
     "traceback": []
    }
   ],
   "source": [
    "$PATHOGIST correlation -h"
   ]
  },
  {
   "cell_type": "markdown",
   "metadata": {},
   "source": [
    "The input is a distance matrix that is either generated through PathOGIST or through kWIP and a threshold value determined by the user. The threshold should be selected based on the user's general idea of his collection of samples. PathOGIST can use two methods to calculate correlation clustering: C4 and ILP. C4 is very but is non-deterministic where is ILP is deterministic but requires CPLEX."
   ]
  },
  {
   "cell_type": "markdown",
   "metadata": {},
   "source": [
    "### Example 1 using SNP distance matrix:"
   ]
  },
  {
   "cell_type": "code",
   "execution_count": 116,
   "metadata": {},
   "outputs": [
    {
     "name": "stdout",
     "output_type": "stream",
     "text": [
      "(pathogist) 05:08:20 AM (5163 ms) -> INFO: Opening distance matrix...\n",
      "(pathogist) "
     ]
    },
    {
     "ename": "",
     "evalue": "1",
     "output_type": "error",
     "traceback": []
    }
   ],
   "source": [
    "snp_corr_output=snp_corr.output\n",
    "$PATHOGIST correlation -a -m C4 $snp_dist_output 1000 $snp_corr_output"
   ]
  },
  {
   "cell_type": "markdown",
   "metadata": {},
   "source": [
    "Clustering Results:"
   ]
  },
  {
   "cell_type": "code",
   "execution_count": 117,
   "metadata": {},
   "outputs": [
    {
     "name": "stdout",
     "output_type": "stream",
     "text": [
      "Sample\tCluster\n",
      "ERR1413989\t1\n",
      "ERR1413990\t1\n",
      "ERR1413996\t1\n",
      "ERR1413997\t1\n",
      "ERR1413998\t1\n",
      "ERR1413999\t1\n",
      "ERR024905\t2\n",
      "ERR1414006\t2\n",
      "ERR1414057\t2\n",
      "(pathogist) "
     ]
    },
    {
     "ename": "",
     "evalue": "1",
     "output_type": "error",
     "traceback": []
    }
   ],
   "source": [
    "head $snp_corr_output"
   ]
  },
  {
   "cell_type": "markdown",
   "metadata": {},
   "source": [
    "### Example 2 using MLST distance matrix:"
   ]
  },
  {
   "cell_type": "code",
   "execution_count": 128,
   "metadata": {},
   "outputs": [
    {
     "name": "stdout",
     "output_type": "stream",
     "text": [
      "(pathogist) 05:33:01 AM (3332 ms) -> INFO: Opening distance matrix...\n",
      "(pathogist) "
     ]
    },
    {
     "ename": "",
     "evalue": "1",
     "output_type": "error",
     "traceback": []
    }
   ],
   "source": [
    "mlst_corr_output=mlst_corr_output\n",
    "$PATHOGIST correlation -a -m C4 $mlst_dist_output 100 $mlst_corr_output"
   ]
  },
  {
   "cell_type": "code",
   "execution_count": 130,
   "metadata": {},
   "outputs": [
    {
     "name": "stdout",
     "output_type": "stream",
     "text": [
      "Sample\tCluster\n",
      "ERR1414039\t1\n",
      "ERR1414072\t1\n",
      "ERR1414077\t1\n",
      "ERR1414082\t1\n",
      "ERR1414086\t1\n",
      "ERR1414101\t1\n",
      "ERR1414080\t1\n",
      "ERR1414078\t1\n",
      "ERR1414055\t1\n",
      "(pathogist) "
     ]
    },
    {
     "ename": "",
     "evalue": "1",
     "output_type": "error",
     "traceback": []
    }
   ],
   "source": [
    "head $mlst_corr_output"
   ]
  },
  {
   "cell_type": "markdown",
   "metadata": {},
   "source": [
    "### Example 3 using kWIP distance matrix:"
   ]
  },
  {
   "cell_type": "code",
   "execution_count": 119,
   "metadata": {},
   "outputs": [
    {
     "name": "stdout",
     "output_type": "stream",
     "text": [
      "(pathogist) (pathogist) 05:09:11 AM (3737 ms) -> INFO: Opening distance matrix...\n",
      "(pathogist) "
     ]
    },
    {
     "ename": "",
     "evalue": "1",
     "output_type": "error",
     "traceback": []
    }
   ],
   "source": [
    "kwip_dist=/projects/pathogist/klw17/PathOGiSTPrivate/genotyping/yersinia_Williamson/kwip21/pseudoTB21.dist\n",
    "kwip_corr_output=kwip_corr_output\n",
    "$PATHOGIST correlation -a -m C4 $kwip_dist 1.2 $kwip_corr_output"
   ]
  },
  {
   "cell_type": "code",
   "execution_count": 129,
   "metadata": {},
   "outputs": [
    {
     "name": "stdout",
     "output_type": "stream",
     "text": [
      "Sample\tCluster\n",
      "ERR024892\t1\n",
      "ERR024893\t1\n",
      "ERR024894\t1\n",
      "ERR024896\t1\n",
      "ERR024901\t1\n",
      "ERR024902\t1\n",
      "ERR024903\t1\n",
      "ERR024905\t1\n",
      "ERR024907\t1\n",
      "(pathogist) "
     ]
    },
    {
     "ename": "",
     "evalue": "1",
     "output_type": "error",
     "traceback": []
    }
   ],
   "source": [
    "head $kwip_corr_output"
   ]
  },
  {
   "cell_type": "markdown",
   "metadata": {},
   "source": [
    "## Consensus Subcommand"
   ]
  },
  {
   "cell_type": "markdown",
   "metadata": {},
   "source": [
    "This subcommand allows the user to obtain the consensus from the different clustering results from different genotypes"
   ]
  },
  {
   "cell_type": "code",
   "execution_count": 111,
   "metadata": {},
   "outputs": [
    {
     "name": "stdout",
     "output_type": "stream",
     "text": [
      "usage: PATHOGIST consensus [-h] [-a] [-m {C4,ILP}]\n",
      "                           distance_matrices clusterings fine_clusterings\n",
      "                           output_path\n",
      "\n",
      "positional arguments:\n",
      "  distance_matrices     path to file containing paths to distance matrices for\n",
      "                        different clusterings\n",
      "  clusterings           path to file containing paths to clusterings,\n",
      "                        represented as either matrices or lists of clustering\n",
      "                        assignments\n",
      "  fine_clusterings      path to file containing the names of the clusterings\n",
      "                        which are the finest\n",
      "  output_path           path to output tsv file\n",
      "\n",
      "optional arguments:\n",
      "  -h, --help            show this help message and exit\n",
      "  -a, --all_constraints\n",
      "                        add all constraints to the optimization problem, not\n",
      "                        just those with mixed signs.\n",
      "  -m {C4,ILP}, --method {C4,ILP}\n",
      "                        Method for consensus clustering\n",
      "(pathogist) "
     ]
    },
    {
     "ename": "",
     "evalue": "1",
     "output_type": "error",
     "traceback": []
    }
   ],
   "source": [
    "$PATHOGIST consensus -h"
   ]
  },
  {
   "cell_type": "markdown",
   "metadata": {},
   "source": [
    "This subcommand uses three files as input. This first file is a files that contains the path to the different distance matrices used for the different correlation clusterings. An example looks like this:"
   ]
  },
  {
   "cell_type": "code",
   "execution_count": 121,
   "metadata": {},
   "outputs": [
    {
     "name": "stdout",
     "output_type": "stream",
     "text": [
      "(pathogist) MLST=/projects/pathogist/klw17/genotyping/yersinia_pseudotuberculosis/pathogist/matched_yersinia_163_mlst_dist.tsv\n",
      "SNP=/projects/pathogist/klw17/genotyping/yersinia_pseudotuberculosis/pathogist/matched_yersinia_163_snv_dist.tsv\n",
      "KWIP=/projects/pathogist/klw17/genotyping/yersinia_pseudotuberculosis/pathogist/matched_yersinia_163_kwip_dist.tsv(pathogist) "
     ]
    },
    {
     "ename": "",
     "evalue": "1",
     "output_type": "error",
     "traceback": []
    }
   ],
   "source": [
    "distance_matrices=/home/klw17/pathogist_doc/yersinia_163_distances.txt\n",
    "cat $distance_matrices"
   ]
  },
  {
   "cell_type": "markdown",
   "metadata": {},
   "source": [
    "The second file is a file that contains the path to the different clusterings. An example looks like this:"
   ]
  },
  {
   "cell_type": "code",
   "execution_count": 122,
   "metadata": {},
   "outputs": [
    {
     "name": "stdout",
     "output_type": "stream",
     "text": [
      "(pathogist) MLST=/projects/pathogist/klw17/genotyping/yersinia_pseudotuberculosis/pathogist/yersinia_163_mlst_clustering.tsv\n",
      "SNP=/projects/pathogist/klw17/genotyping/yersinia_pseudotuberculosis/pathogist/yersinia_163_snv_clustering.tsv\n",
      "KWIP=/projects/pathogist/klw17/genotyping/yersinia_pseudotuberculosis/pathogist/yersinia_163_kwip_clustering.tsv(pathogist) "
     ]
    },
    {
     "ename": "",
     "evalue": "1",
     "output_type": "error",
     "traceback": []
    }
   ],
   "source": [
    "clusterings=/home/klw17/pathogist_doc/yersinia_163_clusters.txt\n",
    "cat $clusterings"
   ]
  },
  {
   "cell_type": "markdown",
   "metadata": {},
   "source": [
    "The third file contains which clustering is considered the finest. In this case SNP would be considered the finest. The file would look like this:"
   ]
  },
  {
   "cell_type": "code",
   "execution_count": 123,
   "metadata": {},
   "outputs": [
    {
     "name": "stdout",
     "output_type": "stream",
     "text": [
      "(pathogist) SNP\n",
      "(pathogist) "
     ]
    },
    {
     "ename": "",
     "evalue": "1",
     "output_type": "error",
     "traceback": []
    }
   ],
   "source": [
    "fine_clusterings=/home/klw17/pathogist_doc/example_fine_clusters.txt\n",
    "cat $fine_clusterings"
   ]
  },
  {
   "cell_type": "markdown",
   "metadata": {},
   "source": [
    "### Example"
   ]
  },
  {
   "cell_type": "code",
   "execution_count": 125,
   "metadata": {},
   "outputs": [
    {
     "name": "stdout",
     "output_type": "stream",
     "text": [
      "(pathogist) 05:22:54 AM (5033 ms) -> INFO: Reading distance matrices ...\n",
      "05:22:54 AM (5115 ms) -> INFO: Getting clusterings ...\n",
      "05:22:54 AM (5132 ms) -> INFO: Getting other metadata ...\n",
      "05:22:54 AM (5134 ms) -> INFO:Creating and solving consensus clustering problem ...\n",
      "05:23:07 AM (18485 ms) -> INFO: Writing clusterings to file ...\n",
      "(pathogist) "
     ]
    },
    {
     "ename": "",
     "evalue": "1",
     "output_type": "error",
     "traceback": []
    }
   ],
   "source": [
    "consensus=consensus.tsv\n",
    "$PATHOGIST consensus -a -m C4 $distance_matrices $clusterings $fine_clusterings $consensus"
   ]
  },
  {
   "cell_type": "code",
   "execution_count": 126,
   "metadata": {},
   "outputs": [
    {
     "name": "stdout",
     "output_type": "stream",
     "text": [
      "\tConsensus\tMLST\tKWIP\tSNP\n",
      "ERR024893\t1\t19\t106\t20\n",
      "ERR024894\t2\t10\t77\t11\n",
      "ERR024895\t3\t16\t66\t17\n",
      "ERR024899\t3\t16\t90\t17\n",
      "ERR024900\t4\t2\t2\t2\n",
      "ERR024901\t5\t11\t36\t12\n",
      "ERR024902\t2\t10\t41\t11\n",
      "ERR024903\t6\t15\t75\t16\n",
      "ERR024904\t7\t21\t113\t22\n",
      "(pathogist) "
     ]
    },
    {
     "ename": "",
     "evalue": "1",
     "output_type": "error",
     "traceback": []
    }
   ],
   "source": [
    "head $consensus"
   ]
  },
  {
   "cell_type": "markdown",
   "metadata": {},
   "source": [
    "## Visualize Subcommand"
   ]
  },
  {
   "cell_type": "markdown",
   "metadata": {},
   "source": [
    "This subcommand allows the user to visualize the clustering results"
   ]
  },
  {
   "cell_type": "code",
   "execution_count": 88,
   "metadata": {},
   "outputs": [
    {
     "name": "stdout",
     "output_type": "stream",
     "text": [
      "usage: PATHOGIST visualize [-h] input {clustering,distances}\n",
      "\n",
      "positional arguments:\n",
      "  input                 path to distance matrix or clustering, all in tsv\n",
      "                        format\n",
      "  {clustering,distances}\n",
      "                        type of data for the input\n",
      "\n",
      "optional arguments:\n",
      "  -h, --help            show this help message and exit\n",
      "(pathogist2) "
     ]
    },
    {
     "ename": "",
     "evalue": "1",
     "output_type": "error",
     "traceback": []
    }
   ],
   "source": [
    "$PATHOGIST visualize -h"
   ]
  },
  {
   "cell_type": "code",
   "execution_count": null,
   "metadata": {},
   "outputs": [],
   "source": []
  }
 ],
 "metadata": {
  "kernelspec": {
   "display_name": "Bash",
   "language": "bash",
   "name": "bash"
  },
  "language_info": {
   "codemirror_mode": "shell",
   "file_extension": ".sh",
   "mimetype": "text/x-sh",
   "name": "bash"
  }
 },
 "nbformat": 4,
 "nbformat_minor": 2
}
